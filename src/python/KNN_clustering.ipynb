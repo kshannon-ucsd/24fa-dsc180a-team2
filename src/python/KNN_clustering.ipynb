{
 "cells": [
  {
   "cell_type": "code",
   "execution_count": 60,
   "metadata": {},
   "outputs": [],
   "source": [
    "import pandas as pd\n",
    "from sklearn.cluster import KMeans\n",
    "from sklearn.compose import ColumnTransformer\n",
    "from sklearn.pipeline import Pipeline\n",
    "from sklearn.preprocessing import OneHotEncoder, StandardScaler\n",
    "import matplotlib.pyplot as plt\n",
    "import os"
   ]
  },
  {
   "cell_type": "code",
   "execution_count": null,
   "metadata": {},
   "outputs": [],
   "source": [
    "df = pd.read_csv('../../data/subset.csv')\n",
    "df"
   ]
  },
  {
   "cell_type": "code",
   "execution_count": null,
   "metadata": {},
   "outputs": [],
   "source": [
    "data = df[df.columns[3:]]\n",
    "data = data.drop(columns = ['age_years', 'outtime_icu', 'first_admission_icu'])\n",
    "qual = ['dbsource', 'gender', 'age_group', 'admission_type', 'first_careunit', 'last_careunit']\n",
    "\n",
    "quant = ['num_disorders', 'los_icu', 'los_hospital', 'sofa']\n",
    "data= data.dropna()\n",
    "\n",
    "preprocessor = ColumnTransformer(transformers= [\n",
    "    ('num', StandardScaler(), quant), \n",
    "    ('cat', OneHotEncoder(), qual)\n",
    "])\n",
    "\n",
    "kmeans = KMeans(n_clusters = 6)\n",
    "\n",
    "pipeline = Pipeline(steps=[\n",
    "    ('preprocessor', preprocessor),\n",
    "    ('kmeans', kmeans)\n",
    "])\n",
    "\n",
    "pipeline.fit(data)\n",
    "labels = pipeline['kmeans'].labels_\n",
    "labels"
   ]
  },
  {
   "cell_type": "code",
   "execution_count": 66,
   "metadata": {},
   "outputs": [],
   "source": [
    "#commented code saves figures to data directory\n",
    "\n",
    "df['subgroup'] = pd.Series(labels)\n",
    "morbidities = ['congestive_heart_failure',\n",
    "       'cardiac_arrhythmias', 'valvular_disease', 'pulmonary_circulation',\n",
    "       'peripheral_vascular', 'hypertension', 'paralysis',\n",
    "       'other_neurological', 'chronic_pulmonary', 'diabetes_uncomplicated',\n",
    "       'diabetes_complicated', 'hypothyroidism', 'renal_failure',\n",
    "       'liver_disease', 'peptic_ulcer', 'aids', 'lymphoma',\n",
    "       'metastatic_cancer', 'solid_tumor', 'rheumatoid_arthritis',\n",
    "       'coagulopathy', 'obesity', 'weight_loss', 'fluid_electrolyte',\n",
    "       'blood_loss_anemia', 'deficiency_anemias', 'alcohol_abuse',\n",
    "       'drug_abuse', 'psychoses', 'depression']\n",
    "\n",
    "subdirectory_name = \"Claire\"\n",
    "\n",
    "# os.makedirs(f\"../../res/{subdirectory_name}\", exist_ok=True)\n",
    "for i in range(5):\n",
    "       df.groupby('subgroup')[morbidities].sum().iloc[i].sort_values(ascending = False)[:5].plot(kind = 'bar')\n",
    "       plt.title(f'Top 5 Morbidities for Subgroup {i}')\n",
    "       # plt.savefig(f\"../../res/{subdirectory_name}/subgroup_{i}_top_morbidities.png\")\n",
    "    \n",
    "       # Display the plot\n",
    "       plt.close()"
   ]
  },
  {
   "cell_type": "code",
   "execution_count": null,
   "metadata": {},
   "outputs": [],
   "source": []
  },
  {
   "cell_type": "code",
   "execution_count": null,
   "metadata": {},
   "outputs": [],
   "source": []
  }
 ],
 "metadata": {
  "kernelspec": {
   "display_name": "Python 3",
   "language": "python",
   "name": "python3"
  },
  "language_info": {
   "codemirror_mode": {
    "name": "ipython",
    "version": 3
   },
   "file_extension": ".py",
   "mimetype": "text/x-python",
   "name": "python",
   "nbconvert_exporter": "python",
   "pygments_lexer": "ipython3",
   "version": "3.9.6"
  }
 },
 "nbformat": 4,
 "nbformat_minor": 2
}
